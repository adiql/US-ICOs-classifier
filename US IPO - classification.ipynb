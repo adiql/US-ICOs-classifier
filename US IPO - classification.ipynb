{
 "cells": [
  {
   "cell_type": "markdown",
   "id": "108b5fdf",
   "metadata": {},
   "source": [
    "# US IPO CLASSYFICATION 2022"
   ]
  },
  {
   "cell_type": "markdown",
   "id": "295fc34d",
   "metadata": {},
   "source": [
    "**Table of contents**\n",
    "\n",
    "Abstract\n",
    "\n",
    "About dataset\n",
    "\n",
    "Prerequisites\n",
    "\n",
    "Data exploration\n",
    "\n",
    "Feature engineering & Model training\n",
    "\n",
    "Summmary\n"
   ]
  },
  {
   "cell_type": "markdown",
   "id": "c71a5731",
   "metadata": {},
   "source": [
    "## Abstract\n"
   ]
  },
  {
   "cell_type": "markdown",
   "id": "96758fd0",
   "metadata": {},
   "source": [
    "The subject of the project is to create binary classyficator for US IPO. Based on dataset from Bloomberg platform we will try to implement model, which will tell us if the price during go live date `Trade day (US)` is posivite - means if (`Open`) price is higher than estimated price(`Priced`).In this case value for classyficator will be `1` - otherwise it will be `0`."
   ]
  },
  {
   "cell_type": "markdown",
   "id": "d2b7d1eb",
   "metadata": {},
   "source": [
    "## About dataset - US IPO\n",
    "The data was taken from the **Bloomberg platform** and includes information about the US IPO from 2016 to 2022.\n",
    "We can find there information such as: when the entry of a given company was announced, the name and abbreviation of the company, the date of entry of the company on the stock exchange, the price range for the purchase of shares before entering the stock exchange, the number of shares, type of offer, the main investing bank and the price after opening the first day of the stock market and some other details to be discussed later.\n",
    "\n",
    "This dataset is just small portion of all indicators, which helps potencial investors to decide if investment in particular ICO is worth it or not."
   ]
  },
  {
   "cell_type": "markdown",
   "id": "640b2b6a",
   "metadata": {},
   "source": [
    "## Prerequisites"
   ]
  },
  {
   "cell_type": "code",
   "execution_count": 77,
   "id": "ea76a712",
   "metadata": {},
   "outputs": [],
   "source": [
    "import pandas as pd\n",
    "import numpy as np\n",
    "import matplotlib.pyplot as plt\n",
    "\n",
    "from sklearn.compose import ColumnTransformer\n",
    "from sklearn.pipeline import Pipeline\n",
    "from sklearn.impute import SimpleImputer\n",
    "from sklearn.preprocessing import StandardScaler, OneHotEncoder\n",
    "from sklearn.model_selection import train_test_split\n",
    "from sklearn.model_selection import StratifiedKFold\n",
    "\n",
    "from sklearn.model_selection import GridSearchCV\n",
    "\n",
    "from sklearn.tree import DecisionTreeClassifier\n",
    "from sklearn.neighbors import KNeighborsClassifier\n",
    "from sklearn.svm import SVC\n",
    "from sklearn.linear_model import LogisticRegression\n",
    "from sklearn.tree import DecisionTreeClassifier\n",
    "from sklearn.ensemble import RandomForestClassifier\n",
    "from sklearn.ensemble import BaggingClassifier\n",
    "from sklearn.ensemble import GradientBoostingClassifier\n",
    "from xgboost.sklearn import XGBClassifier\n",
    "\n",
    "from sklearn import  metrics\n",
    "from sklearn.metrics import classification_report\n",
    "from sklearn.metrics import confusion_matrix, ConfusionMatrixDisplay"
   ]
  },
  {
   "cell_type": "markdown",
   "id": "6c19524a",
   "metadata": {},
   "source": [
    "## Data exploration"
   ]
  },
  {
   "cell_type": "code",
   "execution_count": 3,
   "id": "7930f881",
   "metadata": {},
   "outputs": [],
   "source": [
    "data = pd.read_excel(\"Dane/2022 US IPO data.xlsx\")"
   ]
  },
  {
   "cell_type": "code",
   "execution_count": 4,
   "id": "d04e05d4",
   "metadata": {},
   "outputs": [
    {
     "data": {
      "text/html": [
       "<div>\n",
       "<style scoped>\n",
       "    .dataframe tbody tr th:only-of-type {\n",
       "        vertical-align: middle;\n",
       "    }\n",
       "\n",
       "    .dataframe tbody tr th {\n",
       "        vertical-align: top;\n",
       "    }\n",
       "\n",
       "    .dataframe thead th {\n",
       "        text-align: right;\n",
       "    }\n",
       "</style>\n",
       "<table border=\"1\" class=\"dataframe\">\n",
       "  <thead>\n",
       "    <tr style=\"text-align: right;\">\n",
       "      <th></th>\n",
       "      <th>Action Id</th>\n",
       "      <th>Pricing Date</th>\n",
       "      <th>Issuer Ticker</th>\n",
       "      <th>Announced Date</th>\n",
       "      <th>Filing Date</th>\n",
       "      <th>Trade Date (US)</th>\n",
       "      <th>Settlement Date</th>\n",
       "      <th>Issuer Name</th>\n",
       "      <th>Filing Term Price Min</th>\n",
       "      <th>Filing Term Price Max</th>\n",
       "      <th>...</th>\n",
       "      <th>VC Backed</th>\n",
       "      <th>PE Backed</th>\n",
       "      <th>Primary Share Offering</th>\n",
       "      <th>Security Type</th>\n",
       "      <th>Filing Term Amount (M)</th>\n",
       "      <th>Left Lead Bookrunner</th>\n",
       "      <th>Priced</th>\n",
       "      <th>Open</th>\n",
       "      <th>Last</th>\n",
       "      <th>VIX index</th>\n",
       "    </tr>\n",
       "  </thead>\n",
       "  <tbody>\n",
       "    <tr>\n",
       "      <th>0</th>\n",
       "      <td>225870575</td>\n",
       "      <td>03/16/2021</td>\n",
       "      <td>RCPIU US</td>\n",
       "      <td>03/16/2021</td>\n",
       "      <td>11/15/2021</td>\n",
       "      <td>NaT</td>\n",
       "      <td>NaN</td>\n",
       "      <td>Reverence Acquisition Corp</td>\n",
       "      <td>10.0</td>\n",
       "      <td>10.0</td>\n",
       "      <td>...</td>\n",
       "      <td>0</td>\n",
       "      <td>0</td>\n",
       "      <td>1</td>\n",
       "      <td>Units</td>\n",
       "      <td>300.0</td>\n",
       "      <td>Goldman Sachs</td>\n",
       "      <td>10.0</td>\n",
       "      <td>#N/A Mandatory parameter [STARTDATE] cannot be...</td>\n",
       "      <td>-</td>\n",
       "      <td>NO INFO</td>\n",
       "    </tr>\n",
       "    <tr>\n",
       "      <th>1</th>\n",
       "      <td>225543807</td>\n",
       "      <td>12/22/2021</td>\n",
       "      <td>OACC/U US</td>\n",
       "      <td>02/12/2021</td>\n",
       "      <td>02/07/2022</td>\n",
       "      <td>NaT</td>\n",
       "      <td>NaN</td>\n",
       "      <td>Oaktree Acquisition Corp III</td>\n",
       "      <td>10.0</td>\n",
       "      <td>10.0</td>\n",
       "      <td>...</td>\n",
       "      <td>0</td>\n",
       "      <td>0</td>\n",
       "      <td>1</td>\n",
       "      <td>Units</td>\n",
       "      <td>225.0</td>\n",
       "      <td>Deutsche Bank</td>\n",
       "      <td>10.0</td>\n",
       "      <td>#N/A Mandatory parameter [STARTDATE] cannot be...</td>\n",
       "      <td>-</td>\n",
       "      <td>NO INFO</td>\n",
       "    </tr>\n",
       "    <tr>\n",
       "      <th>2</th>\n",
       "      <td>229154871</td>\n",
       "      <td>01/21/2022</td>\n",
       "      <td>1981926D CN</td>\n",
       "      <td>01/21/2022</td>\n",
       "      <td>05/17/2022</td>\n",
       "      <td>NaT</td>\n",
       "      <td>NaN</td>\n",
       "      <td>Agrinam Acquisition Corp</td>\n",
       "      <td>0.0</td>\n",
       "      <td>0.0</td>\n",
       "      <td>...</td>\n",
       "      <td>0</td>\n",
       "      <td>0</td>\n",
       "      <td>1</td>\n",
       "      <td>Units</td>\n",
       "      <td>120.0</td>\n",
       "      <td>BMO Capital Markets</td>\n",
       "      <td>10.0</td>\n",
       "      <td>#N/A Mandatory parameter [STARTDATE] cannot be...</td>\n",
       "      <td>-</td>\n",
       "      <td>NO INFO</td>\n",
       "    </tr>\n",
       "    <tr>\n",
       "      <th>3</th>\n",
       "      <td>150939120</td>\n",
       "      <td>08/24/2017</td>\n",
       "      <td>HGC AU</td>\n",
       "      <td>08/24/2017</td>\n",
       "      <td>03/05/2021</td>\n",
       "      <td>NaT</td>\n",
       "      <td>NaN</td>\n",
       "      <td>HyGIeaCare Inc</td>\n",
       "      <td>0.0</td>\n",
       "      <td>0.0</td>\n",
       "      <td>...</td>\n",
       "      <td>0</td>\n",
       "      <td>0</td>\n",
       "      <td>1</td>\n",
       "      <td>CDI (Chess Depository Interests)</td>\n",
       "      <td>0.0</td>\n",
       "      <td>NaN</td>\n",
       "      <td>0.4</td>\n",
       "      <td>#N/A Mandatory parameter [STARTDATE] cannot be...</td>\n",
       "      <td>-</td>\n",
       "      <td>NO INFO</td>\n",
       "    </tr>\n",
       "    <tr>\n",
       "      <th>4</th>\n",
       "      <td>172120756</td>\n",
       "      <td>07/10/2018</td>\n",
       "      <td>SVRS PW</td>\n",
       "      <td>06/26/2018</td>\n",
       "      <td>01/22/2021</td>\n",
       "      <td>NaT</td>\n",
       "      <td>16.07.2018</td>\n",
       "      <td>Silvair Inc</td>\n",
       "      <td>0.0</td>\n",
       "      <td>0.0</td>\n",
       "      <td>...</td>\n",
       "      <td>0</td>\n",
       "      <td>0</td>\n",
       "      <td>1</td>\n",
       "      <td>Common</td>\n",
       "      <td>0.0</td>\n",
       "      <td>NaN</td>\n",
       "      <td>17.0</td>\n",
       "      <td>#N/A Mandatory parameter [STARTDATE] cannot be...</td>\n",
       "      <td>4.12</td>\n",
       "      <td>NO INFO</td>\n",
       "    </tr>\n",
       "  </tbody>\n",
       "</table>\n",
       "<p>5 rows × 26 columns</p>\n",
       "</div>"
      ],
      "text/plain": [
       "   Action Id Pricing Date Issuer Ticker Announced Date Filing Date  \\\n",
       "0  225870575   03/16/2021      RCPIU US     03/16/2021  11/15/2021   \n",
       "1  225543807   12/22/2021     OACC/U US     02/12/2021  02/07/2022   \n",
       "2  229154871   01/21/2022   1981926D CN     01/21/2022  05/17/2022   \n",
       "3  150939120   08/24/2017        HGC AU     08/24/2017  03/05/2021   \n",
       "4  172120756   07/10/2018       SVRS PW     06/26/2018  01/22/2021   \n",
       "\n",
       "  Trade Date (US) Settlement Date                   Issuer Name  \\\n",
       "0             NaT             NaN    Reverence Acquisition Corp   \n",
       "1             NaT             NaN  Oaktree Acquisition Corp III   \n",
       "2             NaT             NaN      Agrinam Acquisition Corp   \n",
       "3             NaT             NaN                HyGIeaCare Inc   \n",
       "4             NaT      16.07.2018                   Silvair Inc   \n",
       "\n",
       "   Filing Term Price Min  Filing Term Price Max  ... VC Backed  PE Backed  \\\n",
       "0                   10.0                   10.0  ...         0          0   \n",
       "1                   10.0                   10.0  ...         0          0   \n",
       "2                    0.0                    0.0  ...         0          0   \n",
       "3                    0.0                    0.0  ...         0          0   \n",
       "4                    0.0                    0.0  ...         0          0   \n",
       "\n",
       "  Primary Share Offering                     Security Type  \\\n",
       "0                      1                             Units   \n",
       "1                      1                             Units   \n",
       "2                      1                             Units   \n",
       "3                      1  CDI (Chess Depository Interests)   \n",
       "4                      1                            Common   \n",
       "\n",
       "   Filing Term Amount (M)  Left Lead Bookrunner  Priced  \\\n",
       "0                   300.0         Goldman Sachs    10.0   \n",
       "1                   225.0         Deutsche Bank    10.0   \n",
       "2                   120.0   BMO Capital Markets    10.0   \n",
       "3                     0.0                   NaN     0.4   \n",
       "4                     0.0                   NaN    17.0   \n",
       "\n",
       "                                                Open  Last VIX index  \n",
       "0  #N/A Mandatory parameter [STARTDATE] cannot be...     -   NO INFO  \n",
       "1  #N/A Mandatory parameter [STARTDATE] cannot be...     -   NO INFO  \n",
       "2  #N/A Mandatory parameter [STARTDATE] cannot be...     -   NO INFO  \n",
       "3  #N/A Mandatory parameter [STARTDATE] cannot be...     -   NO INFO  \n",
       "4  #N/A Mandatory parameter [STARTDATE] cannot be...  4.12   NO INFO  \n",
       "\n",
       "[5 rows x 26 columns]"
      ]
     },
     "execution_count": 4,
     "metadata": {},
     "output_type": "execute_result"
    }
   ],
   "source": [
    "data.head()"
   ]
  },
  {
   "cell_type": "code",
   "execution_count": 5,
   "id": "3ea95d98",
   "metadata": {},
   "outputs": [
    {
     "data": {
      "text/plain": [
       "(2108, 26)"
      ]
     },
     "execution_count": 5,
     "metadata": {},
     "output_type": "execute_result"
    }
   ],
   "source": [
    "data.shape"
   ]
  },
  {
   "cell_type": "markdown",
   "id": "2373f3c8",
   "metadata": {},
   "source": [
    "At the begining let's indetify columns, which are unnecessary for our needs like:\n",
    "- `Action Id` - information about id number\n",
    "- `Filing Date`  - one of the date during ICO introduction - not important for our case\n",
    "- `Pricing Date` - one of the date during ICO introduction - not important for our case\n",
    "- `Issuer Ticker` - shortcut of the name\n",
    "- `Announced Date` - date of announment of Trade Date (US)\n",
    "- `Settlement Date` - one of the date during ICO introduction - not important for our case\n",
    "- `Filing Term Price Min` and `Filing Term Price Max` - column `Priced` is the combination of these two\n",
    "- `Filling Term Price Range` - range of filling price\n",
    "- `Last` - price of ICO at 28/06/2022 "
   ]
  },
  {
   "cell_type": "code",
   "execution_count": 6,
   "id": "f48e6ee0",
   "metadata": {},
   "outputs": [],
   "source": [
    "columns_drop = ['Action Id', 'Pricing Date', 'Filing Date', 'Filing Term Price Range', \n",
    "                'Settlement Date', 'Issuer Ticker', 'Announced Date', \n",
    "                'Filing Term Price Min', 'Filing Term Price Max', 'Last']\n",
    "\n",
    "data.drop(columns_drop, axis=1, inplace=True)"
   ]
  },
  {
   "cell_type": "code",
   "execution_count": 7,
   "id": "6323390e",
   "metadata": {},
   "outputs": [
    {
     "data": {
      "text/html": [
       "<div>\n",
       "<style scoped>\n",
       "    .dataframe tbody tr th:only-of-type {\n",
       "        vertical-align: middle;\n",
       "    }\n",
       "\n",
       "    .dataframe tbody tr th {\n",
       "        vertical-align: top;\n",
       "    }\n",
       "\n",
       "    .dataframe thead th {\n",
       "        text-align: right;\n",
       "    }\n",
       "</style>\n",
       "<table border=\"1\" class=\"dataframe\">\n",
       "  <thead>\n",
       "    <tr style=\"text-align: right;\">\n",
       "      <th></th>\n",
       "      <th>Trade Date (US)</th>\n",
       "      <th>Issuer Name</th>\n",
       "      <th>Offer Size (M)</th>\n",
       "      <th>Offer Stage</th>\n",
       "      <th>SPAC</th>\n",
       "      <th>Emerging Growth Company</th>\n",
       "      <th>Secondary Share Offering</th>\n",
       "      <th>VC Backed</th>\n",
       "      <th>PE Backed</th>\n",
       "      <th>Primary Share Offering</th>\n",
       "      <th>Security Type</th>\n",
       "      <th>Filing Term Amount (M)</th>\n",
       "      <th>Left Lead Bookrunner</th>\n",
       "      <th>Priced</th>\n",
       "      <th>Open</th>\n",
       "      <th>VIX index</th>\n",
       "    </tr>\n",
       "  </thead>\n",
       "  <tbody>\n",
       "    <tr>\n",
       "      <th>0</th>\n",
       "      <td>NaT</td>\n",
       "      <td>Reverence Acquisition Corp</td>\n",
       "      <td>300.00000</td>\n",
       "      <td>Pending</td>\n",
       "      <td>1</td>\n",
       "      <td>1</td>\n",
       "      <td>0</td>\n",
       "      <td>0</td>\n",
       "      <td>0</td>\n",
       "      <td>1</td>\n",
       "      <td>Units</td>\n",
       "      <td>300.0</td>\n",
       "      <td>Goldman Sachs</td>\n",
       "      <td>10.0</td>\n",
       "      <td>#N/A Mandatory parameter [STARTDATE] cannot be...</td>\n",
       "      <td>NO INFO</td>\n",
       "    </tr>\n",
       "    <tr>\n",
       "      <th>1</th>\n",
       "      <td>NaT</td>\n",
       "      <td>Oaktree Acquisition Corp III</td>\n",
       "      <td>225.00000</td>\n",
       "      <td>Pending</td>\n",
       "      <td>1</td>\n",
       "      <td>1</td>\n",
       "      <td>0</td>\n",
       "      <td>0</td>\n",
       "      <td>0</td>\n",
       "      <td>1</td>\n",
       "      <td>Units</td>\n",
       "      <td>225.0</td>\n",
       "      <td>Deutsche Bank</td>\n",
       "      <td>10.0</td>\n",
       "      <td>#N/A Mandatory parameter [STARTDATE] cannot be...</td>\n",
       "      <td>NO INFO</td>\n",
       "    </tr>\n",
       "    <tr>\n",
       "      <th>2</th>\n",
       "      <td>NaT</td>\n",
       "      <td>Agrinam Acquisition Corp</td>\n",
       "      <td>120.00000</td>\n",
       "      <td>Pending</td>\n",
       "      <td>1</td>\n",
       "      <td>0</td>\n",
       "      <td>0</td>\n",
       "      <td>0</td>\n",
       "      <td>0</td>\n",
       "      <td>1</td>\n",
       "      <td>Units</td>\n",
       "      <td>120.0</td>\n",
       "      <td>BMO Capital Markets</td>\n",
       "      <td>10.0</td>\n",
       "      <td>#N/A Mandatory parameter [STARTDATE] cannot be...</td>\n",
       "      <td>NO INFO</td>\n",
       "    </tr>\n",
       "    <tr>\n",
       "      <th>3</th>\n",
       "      <td>NaT</td>\n",
       "      <td>HyGIeaCare Inc</td>\n",
       "      <td>7.90600</td>\n",
       "      <td>Pending</td>\n",
       "      <td>0</td>\n",
       "      <td>0</td>\n",
       "      <td>0</td>\n",
       "      <td>0</td>\n",
       "      <td>0</td>\n",
       "      <td>1</td>\n",
       "      <td>CDI (Chess Depository Interests)</td>\n",
       "      <td>0.0</td>\n",
       "      <td>NaN</td>\n",
       "      <td>0.4</td>\n",
       "      <td>#N/A Mandatory parameter [STARTDATE] cannot be...</td>\n",
       "      <td>NO INFO</td>\n",
       "    </tr>\n",
       "    <tr>\n",
       "      <th>4</th>\n",
       "      <td>NaT</td>\n",
       "      <td>Silvair Inc</td>\n",
       "      <td>5.42186</td>\n",
       "      <td>Pending</td>\n",
       "      <td>0</td>\n",
       "      <td>0</td>\n",
       "      <td>0</td>\n",
       "      <td>0</td>\n",
       "      <td>0</td>\n",
       "      <td>1</td>\n",
       "      <td>Common</td>\n",
       "      <td>0.0</td>\n",
       "      <td>NaN</td>\n",
       "      <td>17.0</td>\n",
       "      <td>#N/A Mandatory parameter [STARTDATE] cannot be...</td>\n",
       "      <td>NO INFO</td>\n",
       "    </tr>\n",
       "  </tbody>\n",
       "</table>\n",
       "</div>"
      ],
      "text/plain": [
       "  Trade Date (US)                   Issuer Name  Offer Size (M) Offer Stage  \\\n",
       "0             NaT    Reverence Acquisition Corp       300.00000     Pending   \n",
       "1             NaT  Oaktree Acquisition Corp III       225.00000     Pending   \n",
       "2             NaT      Agrinam Acquisition Corp       120.00000     Pending   \n",
       "3             NaT                HyGIeaCare Inc         7.90600     Pending   \n",
       "4             NaT                   Silvair Inc         5.42186     Pending   \n",
       "\n",
       "   SPAC  Emerging Growth Company  Secondary Share Offering  VC Backed  \\\n",
       "0     1                        1                         0          0   \n",
       "1     1                        1                         0          0   \n",
       "2     1                        0                         0          0   \n",
       "3     0                        0                         0          0   \n",
       "4     0                        0                         0          0   \n",
       "\n",
       "   PE Backed  Primary Share Offering                     Security Type  \\\n",
       "0          0                       1                             Units   \n",
       "1          0                       1                             Units   \n",
       "2          0                       1                             Units   \n",
       "3          0                       1  CDI (Chess Depository Interests)   \n",
       "4          0                       1                            Common   \n",
       "\n",
       "   Filing Term Amount (M) Left Lead Bookrunner  Priced  \\\n",
       "0                   300.0        Goldman Sachs    10.0   \n",
       "1                   225.0        Deutsche Bank    10.0   \n",
       "2                   120.0  BMO Capital Markets    10.0   \n",
       "3                     0.0                  NaN     0.4   \n",
       "4                     0.0                  NaN    17.0   \n",
       "\n",
       "                                                Open VIX index  \n",
       "0  #N/A Mandatory parameter [STARTDATE] cannot be...   NO INFO  \n",
       "1  #N/A Mandatory parameter [STARTDATE] cannot be...   NO INFO  \n",
       "2  #N/A Mandatory parameter [STARTDATE] cannot be...   NO INFO  \n",
       "3  #N/A Mandatory parameter [STARTDATE] cannot be...   NO INFO  \n",
       "4  #N/A Mandatory parameter [STARTDATE] cannot be...   NO INFO  "
      ]
     },
     "execution_count": 7,
     "metadata": {},
     "output_type": "execute_result"
    }
   ],
   "source": [
    "data.head()"
   ]
  },
  {
   "cell_type": "markdown",
   "id": "8c0f5daf",
   "metadata": {},
   "source": [
    "Now let's explain remain columns & their purpose:\n",
    "- `Trade Date (US)` - date of introduction of ICO \n",
    "- `Issuer Name` - name of ICO\n",
    "- `Offer Size (M)` - value of all stocks - if we divide `Offer Size (M)` / `Priced` we will received amount of stock before ICO was introducted\n",
    "- `Offer Stage` - stage of introduction of particular ICOs\n",
    "- Columns `SPAC`, `Emerging Growth Company`, `Secondary Share Offering` , `VC Backed`, `PE Backed` , `Primary Share Offering` are containing information about type of ICO in binary system\n",
    "- `Security Type` \n",
    "- `Filling Term Amount (M)`\n",
    "- `Left Lead Bookrunner` - bank, who is leading ICO\n",
    "- `Priced` - estimation of price before introduction\n",
    "- `Open` - price during `Trade Date (US)`\n",
    "- `VIX index` - a popular indicator of expected volatility on the stock exchange based on S&P 500 index options"
   ]
  },
  {
   "cell_type": "markdown",
   "id": "fb4cffca",
   "metadata": {},
   "source": [
    "### Missing values"
   ]
  },
  {
   "cell_type": "code",
   "execution_count": 8,
   "id": "83bc8726",
   "metadata": {},
   "outputs": [
    {
     "data": {
      "text/plain": [
       "Trade Date (US)              74\n",
       "Issuer Name                   0\n",
       "Offer Size (M)                0\n",
       "Offer Stage                   0\n",
       "SPAC                          0\n",
       "Emerging Growth Company       0\n",
       "Secondary Share Offering      0\n",
       "VC Backed                     0\n",
       "PE Backed                     0\n",
       "Primary Share Offering        0\n",
       "Security Type                 0\n",
       "Filing Term Amount (M)        0\n",
       "Left Lead Bookrunner        836\n",
       "Priced                        1\n",
       "Open                          0\n",
       "VIX index                     0\n",
       "dtype: int64"
      ]
     },
     "execution_count": 8,
     "metadata": {},
     "output_type": "execute_result"
    }
   ],
   "source": [
    "data.isna().sum()"
   ]
  },
  {
   "cell_type": "markdown",
   "id": "16b25377",
   "metadata": {},
   "source": [
    "There are three columns, which contain `NA` values. \n",
    "\n",
    "In column `Priced` we can remove one row.\n",
    "- --\n",
    "Column `Left Lead Bookrunner`contains important information, which bank was leading particular ICO. In this case `NA` means that noone of these banks was leading. Let's save this information as `0` and later on we will use `OneHotEncoder` for this column.."
   ]
  },
  {
   "cell_type": "code",
   "execution_count": 9,
   "id": "2ca0ba5f",
   "metadata": {},
   "outputs": [],
   "source": [
    "data.dropna(subset=['Priced'], inplace=True)\n",
    "\n",
    "data[\"Left Lead Bookrunner\"].fillna('No bank', inplace=True)"
   ]
  },
  {
   "cell_type": "code",
   "execution_count": 10,
   "id": "42028a13",
   "metadata": {},
   "outputs": [
    {
     "data": {
      "text/plain": [
       "Trade Date (US)             74\n",
       "Issuer Name                  0\n",
       "Offer Size (M)               0\n",
       "Offer Stage                  0\n",
       "SPAC                         0\n",
       "Emerging Growth Company      0\n",
       "Secondary Share Offering     0\n",
       "VC Backed                    0\n",
       "PE Backed                    0\n",
       "Primary Share Offering       0\n",
       "Security Type                0\n",
       "Filing Term Amount (M)       0\n",
       "Left Lead Bookrunner         0\n",
       "Priced                       0\n",
       "Open                         0\n",
       "VIX index                    0\n",
       "dtype: int64"
      ]
     },
     "execution_count": 10,
     "metadata": {},
     "output_type": "execute_result"
    }
   ],
   "source": [
    "#lets manage empty field in Trade Date(US) later during EDA\n",
    "\n",
    "data.isna().sum()"
   ]
  },
  {
   "cell_type": "markdown",
   "id": "aaa6c0d9",
   "metadata": {},
   "source": [
    "### Outliers"
   ]
  },
  {
   "cell_type": "code",
   "execution_count": 11,
   "id": "edb74c6a",
   "metadata": {},
   "outputs": [
    {
     "data": {
      "text/plain": [
       "Trading    2102\n",
       "Pending       5\n",
       "Name: Offer Stage, dtype: int64"
      ]
     },
     "execution_count": 11,
     "metadata": {},
     "output_type": "execute_result"
    }
   ],
   "source": [
    "data['Offer Stage'].value_counts()"
   ]
  },
  {
   "cell_type": "markdown",
   "id": "bc19a567",
   "metadata": {},
   "source": [
    "In this case we need only `Offer Stage` which status is *Trading*. `Pending` means that the **ICO is not yet listed**."
   ]
  },
  {
   "cell_type": "code",
   "execution_count": 12,
   "id": "c2900a22",
   "metadata": {},
   "outputs": [],
   "source": [
    "data.drop(data[data['Offer Stage'] == 'Pending'].index, inplace = True)"
   ]
  },
  {
   "cell_type": "code",
   "execution_count": 13,
   "id": "3bf37529",
   "metadata": {},
   "outputs": [
    {
     "data": {
      "text/plain": [
       "Trading    2102\n",
       "Name: Offer Stage, dtype: int64"
      ]
     },
     "execution_count": 13,
     "metadata": {},
     "output_type": "execute_result"
    }
   ],
   "source": [
    "data['Offer Stage'].value_counts()"
   ]
  },
  {
   "cell_type": "markdown",
   "id": "3aaf4dd6",
   "metadata": {},
   "source": [
    "After implementation of the filter column `Offer Stage` is not necessary anymore."
   ]
  },
  {
   "cell_type": "code",
   "execution_count": 14,
   "id": "3ddcdb30",
   "metadata": {},
   "outputs": [],
   "source": [
    "to_drop = ['Offer Stage']\n",
    "data.drop(to_drop, axis=1, inplace=True)"
   ]
  },
  {
   "cell_type": "markdown",
   "id": "f1185b13",
   "metadata": {},
   "source": [
    "- --"
   ]
  },
  {
   "cell_type": "code",
   "execution_count": 15,
   "id": "113a8710",
   "metadata": {},
   "outputs": [
    {
     "name": "stdout",
     "output_type": "stream",
     "text": [
      "2102\n"
     ]
    },
    {
     "data": {
      "text/plain": [
       "10                                                      188\n",
       "#N/A Mandatory parameter [STARTDATE] cannot be empty     69\n",
       "10.05                                                    61\n",
       "10.1                                                     46\n",
       "20                                                       43\n",
       "                                                       ... \n",
       "29.6                                                      1\n",
       "19.6                                                      1\n",
       "45                                                        1\n",
       "28.76                                                     1\n",
       "50.1                                                      1\n",
       "Name: Open, Length: 635, dtype: int64"
      ]
     },
     "execution_count": 15,
     "metadata": {},
     "output_type": "execute_result"
    }
   ],
   "source": [
    "print(data['Open'].value_counts().sum())\n",
    "data['Open'].value_counts()"
   ]
  },
  {
   "cell_type": "markdown",
   "id": "3b09c7bb",
   "metadata": {},
   "source": [
    "Also in column `Open` we identify values as **#N/A Mandatory parameter [STARTDATE] cannot be empty** & **-**, which means that there is missing argumentt to fill this information on Blommerg platform"
   ]
  },
  {
   "cell_type": "code",
   "execution_count": 16,
   "id": "9378abeb",
   "metadata": {},
   "outputs": [],
   "source": [
    "data.drop(data[data['Open'] == '#N/A Mandatory parameter [STARTDATE] cannot be empty'].index, inplace = True)\n",
    "data.drop(data[data['Open'] == '-'].index, inplace = True)"
   ]
  },
  {
   "cell_type": "code",
   "execution_count": 17,
   "id": "54e78e13",
   "metadata": {},
   "outputs": [
    {
     "name": "stdout",
     "output_type": "stream",
     "text": [
      "1997\n"
     ]
    },
    {
     "data": {
      "text/plain": [
       "10.00    188\n",
       "10.05     61\n",
       "10.10     46\n",
       "20.00     43\n",
       "10.01     35\n",
       "        ... \n",
       "29.60      1\n",
       "19.60      1\n",
       "45.00      1\n",
       "28.76      1\n",
       "50.10      1\n",
       "Name: Open, Length: 633, dtype: int64"
      ]
     },
     "execution_count": 17,
     "metadata": {},
     "output_type": "execute_result"
    }
   ],
   "source": [
    "print(data['Open'].value_counts().sum())\n",
    "data['Open'].value_counts()"
   ]
  },
  {
   "cell_type": "code",
   "execution_count": 18,
   "id": "3dd5771c",
   "metadata": {},
   "outputs": [
    {
     "data": {
      "text/plain": [
       "Trade Date (US)             0\n",
       "Issuer Name                 0\n",
       "Offer Size (M)              0\n",
       "SPAC                        0\n",
       "Emerging Growth Company     0\n",
       "Secondary Share Offering    0\n",
       "VC Backed                   0\n",
       "PE Backed                   0\n",
       "Primary Share Offering      0\n",
       "Security Type               0\n",
       "Filing Term Amount (M)      0\n",
       "Left Lead Bookrunner        0\n",
       "Priced                      0\n",
       "Open                        0\n",
       "VIX index                   0\n",
       "dtype: int64"
      ]
     },
     "execution_count": 18,
     "metadata": {},
     "output_type": "execute_result"
    }
   ],
   "source": [
    "#all NA values removed\n",
    "data.isna().sum()"
   ]
  },
  {
   "cell_type": "markdown",
   "id": "6cd11bde",
   "metadata": {},
   "source": [
    "- --"
   ]
  },
  {
   "cell_type": "code",
   "execution_count": 19,
   "id": "29ae2b67",
   "metadata": {},
   "outputs": [
    {
     "data": {
      "text/plain": [
       "Dawson James Securities                         1\n",
       "Paulson Investment Co Inc                       1\n",
       "ThinkEquity LLC                                 1\n",
       "Craig-Hallum Capital Group Ltd                  1\n",
       "Spartan Capital Securities LLC                  1\n",
       "Oak Ridge Financial Services Group Inc/The      1\n",
       "Guggenheim Capital                              1\n",
       "National Securities Corp                        1\n",
       "HCFP/Capital Markets LLC                        1\n",
       "Prime Number Capital LLC                        1\n",
       "MDB Capital Group LLC                           1\n",
       "NatWest Markets                                 2\n",
       "Tiger Brokers NZ Ltd                            2\n",
       "Lifesci Capital LLC                             2\n",
       "FIG Partners LLC                                2\n",
       "Canaccord Genuity                               2\n",
       "Robert W Baird & Co                             2\n",
       "EF Hutton                                       2\n",
       "DA Davidson & Co                                2\n",
       "Northland Securities Group LLC                  2\n",
       "Alexander Capital LP                            2\n",
       "Benchmark Co LLC/The                            3\n",
       "US Tiger Securities Inc                         3\n",
       "Aegis Capital Corp                              3\n",
       "RBC Capital Markets                             3\n",
       "Wallachbeth Capital LLC                         3\n",
       "Nomura                                          4\n",
       "Sandler O'Neill & Partners                      4\n",
       "Imperial Capital LLC                            4\n",
       "Chardan Capital Markets LLC                     4\n",
       "BTIG LLC                                        5\n",
       "Evercore Partners Inc                           5\n",
       "Maxim Group LLC                                 6\n",
       "Stephens Inc                                    6\n",
       "BMO Capital Markets                             6\n",
       "Ladenburg Thalmann & Co                         7\n",
       "SVB Financial Group                             8\n",
       "Piper Sandler & Co                              8\n",
       "EarlybirdCapital Inc/DE                         8\n",
       "Oppenheimer & Co                                8\n",
       "B Riley Financial Inc                           9\n",
       "Cantor Fitzgerald                              12\n",
       "Roth Capital Partners Inc                      12\n",
       "Raymond James & Associates                     12\n",
       "Wells Fargo                                    17\n",
       "Stifel                                         27\n",
       "Cowen & Co                                     31\n",
       "Barclays                                       39\n",
       "UBS                                            40\n",
       "Deutsche Bank                                  45\n",
       "Jefferies                                      59\n",
       "Credit Suisse                                  72\n",
       "BofA Securities                               113\n",
       "Citi                                          118\n",
       "JP Morgan                                     150\n",
       "Morgan Stanley                                165\n",
       "Goldman Sachs                                 202\n",
       "No bank                                       745\n",
       "Name: Left Lead Bookrunner, dtype: int64"
      ]
     },
     "execution_count": 19,
     "metadata": {},
     "output_type": "execute_result"
    }
   ],
   "source": [
    "data['Left Lead Bookrunner'].value_counts(ascending=True)"
   ]
  },
  {
   "cell_type": "markdown",
   "id": "df9833ac",
   "metadata": {},
   "source": [
    "In the column `Left Lead Bookrunner` for the analisys purpose we should filter only posistions with 10+ values - otherwise remove row."
   ]
  },
  {
   "cell_type": "code",
   "execution_count": 20,
   "id": "7139653b",
   "metadata": {},
   "outputs": [],
   "source": [
    "data = data.groupby('Left Lead Bookrunner').filter(lambda x: len(x) > 10)"
   ]
  },
  {
   "cell_type": "code",
   "execution_count": 21,
   "id": "f507a6c4",
   "metadata": {},
   "outputs": [
    {
     "data": {
      "text/plain": [
       "No bank                       745\n",
       "Goldman Sachs                 202\n",
       "Morgan Stanley                165\n",
       "JP Morgan                     150\n",
       "Citi                          118\n",
       "BofA Securities               113\n",
       "Credit Suisse                  72\n",
       "Jefferies                      59\n",
       "Deutsche Bank                  45\n",
       "UBS                            40\n",
       "Barclays                       39\n",
       "Cowen & Co                     31\n",
       "Stifel                         27\n",
       "Wells Fargo                    17\n",
       "Cantor Fitzgerald              12\n",
       "Raymond James & Associates     12\n",
       "Roth Capital Partners Inc      12\n",
       "Name: Left Lead Bookrunner, dtype: int64"
      ]
     },
     "execution_count": 21,
     "metadata": {},
     "output_type": "execute_result"
    }
   ],
   "source": [
    "data['Left Lead Bookrunner'].value_counts(ascending=False)"
   ]
  },
  {
   "cell_type": "markdown",
   "id": "4e8f7680",
   "metadata": {},
   "source": [
    "### Data types"
   ]
  },
  {
   "cell_type": "code",
   "execution_count": 22,
   "id": "65702ce9",
   "metadata": {},
   "outputs": [
    {
     "data": {
      "text/plain": [
       "Trade Date (US)             datetime64[ns]\n",
       "Issuer Name                         object\n",
       "Offer Size (M)                     float64\n",
       "SPAC                                 int64\n",
       "Emerging Growth Company              int64\n",
       "Secondary Share Offering             int64\n",
       "VC Backed                            int64\n",
       "PE Backed                            int64\n",
       "Primary Share Offering               int64\n",
       "Security Type                       object\n",
       "Filing Term Amount (M)             float64\n",
       "Left Lead Bookrunner                object\n",
       "Priced                             float64\n",
       "Open                                object\n",
       "VIX index                           object\n",
       "dtype: object"
      ]
     },
     "execution_count": 22,
     "metadata": {},
     "output_type": "execute_result"
    }
   ],
   "source": [
    "data.dtypes"
   ]
  },
  {
   "cell_type": "markdown",
   "id": "5b6c4564",
   "metadata": {},
   "source": [
    "Let's change the data types in column correctly.\n",
    "First let's focus on columns: \n",
    "- `SPAC`   \n",
    "- `Emerging Growth Company`             \n",
    "- `Secondary Share Offering`             \n",
    "- `VC Backed`                            \n",
    "- `PE Backed`                            \n",
    "- `Primary Share Offering`\n",
    "\n",
    "which should be **binary**."
   ]
  },
  {
   "cell_type": "code",
   "execution_count": 23,
   "id": "5e470cc3",
   "metadata": {},
   "outputs": [],
   "source": [
    "binary_column = ['SPAC', 'Emerging Growth Company', 'Secondary Share Offering', 'VC Backed',\n",
    "                'PE Backed', 'Primary Share Offering']\n",
    "\n",
    "for col in binary_column:\n",
    "    data[col] = data[col].astype('bool')"
   ]
  },
  {
   "cell_type": "markdown",
   "id": "4aa88610",
   "metadata": {},
   "source": [
    "- --\n",
    "Also columns `Open`& `VIX index` we should make as **float**."
   ]
  },
  {
   "cell_type": "code",
   "execution_count": 24,
   "id": "3714cb1c",
   "metadata": {},
   "outputs": [],
   "source": [
    "float_column = ['Open', 'VIX index']\n",
    "for col in float_column:\n",
    "    data[col] = data[col].astype('float')"
   ]
  },
  {
   "cell_type": "code",
   "execution_count": 25,
   "id": "c0f74689",
   "metadata": {},
   "outputs": [
    {
     "data": {
      "text/plain": [
       "Trade Date (US)             datetime64[ns]\n",
       "Issuer Name                         object\n",
       "Offer Size (M)                     float64\n",
       "SPAC                                  bool\n",
       "Emerging Growth Company               bool\n",
       "Secondary Share Offering              bool\n",
       "VC Backed                             bool\n",
       "PE Backed                             bool\n",
       "Primary Share Offering                bool\n",
       "Security Type                       object\n",
       "Filing Term Amount (M)             float64\n",
       "Left Lead Bookrunner                object\n",
       "Priced                             float64\n",
       "Open                               float64\n",
       "VIX index                          float64\n",
       "dtype: object"
      ]
     },
     "execution_count": 25,
     "metadata": {},
     "output_type": "execute_result"
    }
   ],
   "source": [
    "data.dtypes"
   ]
  },
  {
   "cell_type": "code",
   "execution_count": 26,
   "id": "c45adb15",
   "metadata": {},
   "outputs": [],
   "source": [
    "data.sort_values(by='Trade Date (US)', inplace=True)"
   ]
  },
  {
   "cell_type": "markdown",
   "id": "10638d9b",
   "metadata": {},
   "source": [
    "### Adding new columns"
   ]
  },
  {
   "cell_type": "markdown",
   "id": "0d9cb9e9",
   "metadata": {},
   "source": [
    "For the purpose of clasyfication we need to create column to indentify if the `Open` price of ICO was higher that estimated price `Priced` or lower.\n",
    "\n",
    "****We can maintain binary classyfication - if the `Open` price was higher that `Priced` = 1 otherwise 0.****"
   ]
  },
  {
   "cell_type": "code",
   "execution_count": 27,
   "id": "803b448b",
   "metadata": {},
   "outputs": [],
   "source": [
    "data['Positive'] = data['Open'] > data['Priced']"
   ]
  },
  {
   "cell_type": "code",
   "execution_count": 28,
   "id": "d5beea95",
   "metadata": {},
   "outputs": [
    {
     "data": {
      "text/plain": [
       "True     1239\n",
       "False     620\n",
       "Name: Positive, dtype: int64"
      ]
     },
     "execution_count": 28,
     "metadata": {},
     "output_type": "execute_result"
    }
   ],
   "source": [
    "data['Positive'].value_counts()"
   ]
  },
  {
   "cell_type": "markdown",
   "id": "452adf66",
   "metadata": {},
   "source": [
    "After that we can remove columns `Open` & `Priced`."
   ]
  },
  {
   "cell_type": "code",
   "execution_count": 29,
   "id": "348aa0e2",
   "metadata": {},
   "outputs": [],
   "source": [
    "late_drop = ['Open', 'Priced']\n",
    "\n",
    "data.drop(late_drop, axis=1, inplace=True)"
   ]
  },
  {
   "cell_type": "markdown",
   "id": "a58ab59f",
   "metadata": {},
   "source": [
    "Also at this stage columns `Trade Date (US)` & `Issuer Name` we can remove."
   ]
  },
  {
   "cell_type": "code",
   "execution_count": 30,
   "id": "090ec697",
   "metadata": {},
   "outputs": [],
   "source": [
    "last_drop = ['Trade Date (US)', 'Issuer Name']\n",
    "data.drop(last_drop, axis=1, inplace=True)"
   ]
  },
  {
   "cell_type": "code",
   "execution_count": 31,
   "id": "e370acda",
   "metadata": {},
   "outputs": [
    {
     "data": {
      "text/html": [
       "<div>\n",
       "<style scoped>\n",
       "    .dataframe tbody tr th:only-of-type {\n",
       "        vertical-align: middle;\n",
       "    }\n",
       "\n",
       "    .dataframe tbody tr th {\n",
       "        vertical-align: top;\n",
       "    }\n",
       "\n",
       "    .dataframe thead th {\n",
       "        text-align: right;\n",
       "    }\n",
       "</style>\n",
       "<table border=\"1\" class=\"dataframe\">\n",
       "  <thead>\n",
       "    <tr style=\"text-align: right;\">\n",
       "      <th></th>\n",
       "      <th>Offer Size (M)</th>\n",
       "      <th>SPAC</th>\n",
       "      <th>Emerging Growth Company</th>\n",
       "      <th>Secondary Share Offering</th>\n",
       "      <th>VC Backed</th>\n",
       "      <th>PE Backed</th>\n",
       "      <th>Primary Share Offering</th>\n",
       "      <th>Security Type</th>\n",
       "      <th>Filing Term Amount (M)</th>\n",
       "      <th>Left Lead Bookrunner</th>\n",
       "      <th>VIX index</th>\n",
       "      <th>Positive</th>\n",
       "    </tr>\n",
       "  </thead>\n",
       "  <tbody>\n",
       "    <tr>\n",
       "      <th>220</th>\n",
       "      <td>557.750</td>\n",
       "      <td>False</td>\n",
       "      <td>True</td>\n",
       "      <td>True</td>\n",
       "      <td>False</td>\n",
       "      <td>False</td>\n",
       "      <td>False</td>\n",
       "      <td>Common</td>\n",
       "      <td>485.001</td>\n",
       "      <td>Goldman Sachs</td>\n",
       "      <td>15.34</td>\n",
       "      <td>True</td>\n",
       "    </tr>\n",
       "    <tr>\n",
       "      <th>1314</th>\n",
       "      <td>148.005</td>\n",
       "      <td>False</td>\n",
       "      <td>True</td>\n",
       "      <td>True</td>\n",
       "      <td>False</td>\n",
       "      <td>True</td>\n",
       "      <td>True</td>\n",
       "      <td>Common</td>\n",
       "      <td>191.074</td>\n",
       "      <td>Credit Suisse</td>\n",
       "      <td>15.34</td>\n",
       "      <td>False</td>\n",
       "    </tr>\n",
       "    <tr>\n",
       "      <th>1934</th>\n",
       "      <td>24.000</td>\n",
       "      <td>False</td>\n",
       "      <td>True</td>\n",
       "      <td>False</td>\n",
       "      <td>False</td>\n",
       "      <td>False</td>\n",
       "      <td>True</td>\n",
       "      <td>Common</td>\n",
       "      <td>24.000</td>\n",
       "      <td>No bank</td>\n",
       "      <td>16.20</td>\n",
       "      <td>True</td>\n",
       "    </tr>\n",
       "    <tr>\n",
       "      <th>1708</th>\n",
       "      <td>75.000</td>\n",
       "      <td>False</td>\n",
       "      <td>True</td>\n",
       "      <td>False</td>\n",
       "      <td>True</td>\n",
       "      <td>False</td>\n",
       "      <td>True</td>\n",
       "      <td>Common</td>\n",
       "      <td>80.000</td>\n",
       "      <td>UBS</td>\n",
       "      <td>14.89</td>\n",
       "      <td>True</td>\n",
       "    </tr>\n",
       "    <tr>\n",
       "      <th>1269</th>\n",
       "      <td>153.180</td>\n",
       "      <td>False</td>\n",
       "      <td>True</td>\n",
       "      <td>False</td>\n",
       "      <td>True</td>\n",
       "      <td>False</td>\n",
       "      <td>True</td>\n",
       "      <td>Common</td>\n",
       "      <td>133.200</td>\n",
       "      <td>Morgan Stanley</td>\n",
       "      <td>14.89</td>\n",
       "      <td>True</td>\n",
       "    </tr>\n",
       "  </tbody>\n",
       "</table>\n",
       "</div>"
      ],
      "text/plain": [
       "      Offer Size (M)   SPAC  Emerging Growth Company  \\\n",
       "220          557.750  False                     True   \n",
       "1314         148.005  False                     True   \n",
       "1934          24.000  False                     True   \n",
       "1708          75.000  False                     True   \n",
       "1269         153.180  False                     True   \n",
       "\n",
       "      Secondary Share Offering  VC Backed  PE Backed  Primary Share Offering  \\\n",
       "220                       True      False      False                   False   \n",
       "1314                      True      False       True                    True   \n",
       "1934                     False      False      False                    True   \n",
       "1708                     False       True      False                    True   \n",
       "1269                     False       True      False                    True   \n",
       "\n",
       "     Security Type  Filing Term Amount (M) Left Lead Bookrunner  VIX index  \\\n",
       "220         Common                 485.001        Goldman Sachs      15.34   \n",
       "1314        Common                 191.074        Credit Suisse      15.34   \n",
       "1934        Common                  24.000              No bank      16.20   \n",
       "1708        Common                  80.000                  UBS      14.89   \n",
       "1269        Common                 133.200       Morgan Stanley      14.89   \n",
       "\n",
       "      Positive  \n",
       "220       True  \n",
       "1314     False  \n",
       "1934      True  \n",
       "1708      True  \n",
       "1269      True  "
      ]
     },
     "execution_count": 31,
     "metadata": {},
     "output_type": "execute_result"
    }
   ],
   "source": [
    "data.head()"
   ]
  },
  {
   "cell_type": "markdown",
   "id": "da554d57",
   "metadata": {},
   "source": [
    "## Feature Engineering & ML implementation"
   ]
  },
  {
   "cell_type": "code",
   "execution_count": 32,
   "id": "36407564",
   "metadata": {},
   "outputs": [],
   "source": [
    "X = data.iloc[: ,: -1]  # attributes\n",
    "y = data.iloc[: , -1]   # classes"
   ]
  },
  {
   "cell_type": "markdown",
   "id": "f18f72c5",
   "metadata": {},
   "source": [
    "Now we need prepare data for ML model. Let's create pipeline for **numeric & categorical features.**"
   ]
  },
  {
   "cell_type": "code",
   "execution_count": 35,
   "id": "b43bb36d",
   "metadata": {},
   "outputs": [],
   "source": [
    "# pipeline for numeric feature\n",
    "numeric_features = ['Offer Size (M)', 'Filing Term Amount (M)', 'VIX index']\n",
    "numeric_transformer = Pipeline(steps=[\n",
    "    ('scaler', StandardScaler())])\n",
    "\n",
    "\n",
    "# pipeline for categorical feature\n",
    "categorical_features = ['Security Type', 'Left Lead Bookrunner']\n",
    "categorical_transformer = Pipeline(steps=[\n",
    "    ('onehot', OneHotEncoder(handle_unknown='ignore'))])\n",
    "\n",
    "\n",
    "# preprocessor for both types of features\n",
    "preprocessor = ColumnTransformer(\n",
    "    transformers=[\n",
    "        ('num', numeric_transformer, numeric_features),\n",
    "        ('cat', categorical_transformer, categorical_features)])"
   ]
  },
  {
   "cell_type": "code",
   "execution_count": 36,
   "id": "93018abf",
   "metadata": {},
   "outputs": [],
   "source": [
    "# split dataset for train & test\n",
    "X_train, X_test, y_train, y_test = train_test_split(X, y, test_size=0.2, random_state=42, stratify=y)"
   ]
  },
  {
   "cell_type": "code",
   "execution_count": 37,
   "id": "b34a6672",
   "metadata": {},
   "outputs": [],
   "source": [
    "seed=123\n",
    "kfold = StratifiedKFold(n_splits=5, random_state=seed, shuffle=True)"
   ]
  },
  {
   "cell_type": "markdown",
   "id": "9ace79f2",
   "metadata": {},
   "source": [
    "Let's check"
   ]
  },
  {
   "cell_type": "markdown",
   "id": "d172a30c",
   "metadata": {},
   "source": [
    "### Logistic Regression"
   ]
  },
  {
   "cell_type": "code",
   "execution_count": 38,
   "id": "486fe3d7",
   "metadata": {},
   "outputs": [
    {
     "name": "stderr",
     "output_type": "stream",
     "text": [
      "C:\\Users\\adria\\anaconda3\\lib\\site-packages\\sklearn\\linear_model\\_sag.py:328: ConvergenceWarning: The max_iter was reached which means the coef_ did not converge\n",
      "  warnings.warn(\"The max_iter was reached which means \"\n",
      "C:\\Users\\adria\\anaconda3\\lib\\site-packages\\sklearn\\linear_model\\_sag.py:328: ConvergenceWarning: The max_iter was reached which means the coef_ did not converge\n",
      "  warnings.warn(\"The max_iter was reached which means \"\n",
      "C:\\Users\\adria\\anaconda3\\lib\\site-packages\\sklearn\\linear_model\\_sag.py:328: ConvergenceWarning: The max_iter was reached which means the coef_ did not converge\n",
      "  warnings.warn(\"The max_iter was reached which means \"\n",
      "C:\\Users\\adria\\anaconda3\\lib\\site-packages\\sklearn\\linear_model\\_sag.py:328: ConvergenceWarning: The max_iter was reached which means the coef_ did not converge\n",
      "  warnings.warn(\"The max_iter was reached which means \"\n",
      "C:\\Users\\adria\\anaconda3\\lib\\site-packages\\sklearn\\linear_model\\_sag.py:328: ConvergenceWarning: The max_iter was reached which means the coef_ did not converge\n",
      "  warnings.warn(\"The max_iter was reached which means \"\n",
      "C:\\Users\\adria\\anaconda3\\lib\\site-packages\\sklearn\\linear_model\\_sag.py:328: ConvergenceWarning: The max_iter was reached which means the coef_ did not converge\n",
      "  warnings.warn(\"The max_iter was reached which means \"\n",
      "C:\\Users\\adria\\anaconda3\\lib\\site-packages\\sklearn\\linear_model\\_sag.py:328: ConvergenceWarning: The max_iter was reached which means the coef_ did not converge\n",
      "  warnings.warn(\"The max_iter was reached which means \"\n",
      "C:\\Users\\adria\\anaconda3\\lib\\site-packages\\sklearn\\linear_model\\_sag.py:328: ConvergenceWarning: The max_iter was reached which means the coef_ did not converge\n",
      "  warnings.warn(\"The max_iter was reached which means \"\n",
      "C:\\Users\\adria\\anaconda3\\lib\\site-packages\\sklearn\\linear_model\\_sag.py:328: ConvergenceWarning: The max_iter was reached which means the coef_ did not converge\n",
      "  warnings.warn(\"The max_iter was reached which means \"\n",
      "C:\\Users\\adria\\anaconda3\\lib\\site-packages\\sklearn\\linear_model\\_sag.py:328: ConvergenceWarning: The max_iter was reached which means the coef_ did not converge\n",
      "  warnings.warn(\"The max_iter was reached which means \"\n",
      "C:\\Users\\adria\\anaconda3\\lib\\site-packages\\sklearn\\linear_model\\_sag.py:328: ConvergenceWarning: The max_iter was reached which means the coef_ did not converge\n",
      "  warnings.warn(\"The max_iter was reached which means \"\n"
     ]
    },
    {
     "data": {
      "text/plain": [
       "{'classifier__max_iter': 100,\n",
       " 'classifier__penalty': 'l2',\n",
       " 'classifier__solver': 'liblinear',\n",
       " 'preprocessing': ColumnTransformer(transformers=[('num',\n",
       "                                  Pipeline(steps=[('scaler', StandardScaler())]),\n",
       "                                  ['Offer Size (M)', 'Filing Term Amount (M)',\n",
       "                                   'VIX index']),\n",
       "                                 ('cat',\n",
       "                                  Pipeline(steps=[('onehot',\n",
       "                                                   OneHotEncoder(handle_unknown='ignore'))]),\n",
       "                                  ['Security Type', 'Left Lead Bookrunner'])])}"
      ]
     },
     "execution_count": 38,
     "metadata": {},
     "output_type": "execute_result"
    }
   ],
   "source": [
    "# search for best parameters\n",
    "pipe_1 = Pipeline([('preprocessing', preprocessor),  \n",
    "                   ('classifier', LogisticRegression())])\n",
    "\n",
    "param_grid_1 = {\n",
    "            'preprocessing': [preprocessor],\n",
    "            'classifier__penalty':['l2'],\n",
    "            'classifier__solver': ['liblinear', 'sag', 'saga'],\n",
    "            'classifier__max_iter': [100, 1000]\n",
    "}\n",
    "\n",
    "grid_1 = GridSearchCV(pipe_1, param_grid_1, cv=kfold, return_train_score=True)\n",
    "\n",
    "\n",
    "grid_1.fit(X_train, y_train)\n",
    "grid_1.best_params_"
   ]
  },
  {
   "cell_type": "code",
   "execution_count": 39,
   "id": "22ef5c9e",
   "metadata": {},
   "outputs": [
    {
     "data": {
      "text/plain": [
       "Pipeline(steps=[('preprocessing',\n",
       "                 ColumnTransformer(transformers=[('num',\n",
       "                                                  Pipeline(steps=[('scaler',\n",
       "                                                                   StandardScaler())]),\n",
       "                                                  ['Offer Size (M)',\n",
       "                                                   'Filing Term Amount (M)',\n",
       "                                                   'VIX index']),\n",
       "                                                 ('cat',\n",
       "                                                  Pipeline(steps=[('onehot',\n",
       "                                                                   OneHotEncoder(handle_unknown='ignore'))]),\n",
       "                                                  ['Security Type',\n",
       "                                                   'Left Lead Bookrunner'])])),\n",
       "                ('classifier', LogisticRegression(solver='liblinear'))])"
      ]
     },
     "execution_count": 39,
     "metadata": {},
     "output_type": "execute_result"
    }
   ],
   "source": [
    "# implementation best params to the model\n",
    "model_LR = Pipeline([('preprocessing', preprocessor),  \n",
    "                     ('classifier', LogisticRegression(max_iter=100,\n",
    "                                                       penalty='l2',\n",
    "                                                       solver='liblinear'))])\n",
    "\n",
    "model_LR.fit(X_train, y_train)"
   ]
  },
  {
   "cell_type": "code",
   "execution_count": 40,
   "id": "f509c4ff",
   "metadata": {},
   "outputs": [],
   "source": [
    "# test model on testing set\n",
    "y_pred_LR = model_LR.predict(X_test)"
   ]
  },
  {
   "cell_type": "code",
   "execution_count": 41,
   "id": "5b8bddc6",
   "metadata": {},
   "outputs": [
    {
     "name": "stdout",
     "output_type": "stream",
     "text": [
      "              precision    recall  f1-score   support\n",
      "\n",
      "       False       0.06      0.54      0.10        13\n",
      "        True       0.98      0.67      0.80       359\n",
      "\n",
      "    accuracy                           0.67       372\n",
      "   macro avg       0.52      0.61      0.45       372\n",
      "weighted avg       0.94      0.67      0.77       372\n",
      "\n"
     ]
    }
   ],
   "source": [
    "# evaluate optimized model\n",
    "print(classification_report(y_pred_LR, y_test))"
   ]
  },
  {
   "cell_type": "code",
   "execution_count": 89,
   "id": "23174c6e",
   "metadata": {},
   "outputs": [
    {
     "data": {
      "image/png": "[encoded data removed]",
      "text/plain": [
       "<Figure size 432x288 with 2 Axes>"
      ]
     },
     "metadata": {
      "needs_background": "light"
     },
     "output_type": "display_data"
    }
   ],
   "source": [
    "# confusion matrix\n",
    "cm_LR = confusion_matrix(y_test, y_pred_LR)\n",
    "plot_LR = ConfusionMatrixDisplay(cm_LR, display_labels=model_LR.classes_)\n",
    "\n",
    "plot_LR.plot()\n",
    "\n",
    "plt.show()"
   ]
  },
  {
   "cell_type": "markdown",
   "id": "174a1e23",
   "metadata": {},
   "source": [
    "### SVM"
   ]
  },
  {
   "cell_type": "code",
   "execution_count": 42,
   "id": "0f49f2bf",
   "metadata": {},
   "outputs": [
    {
     "data": {
      "text/plain": [
       "{'classifier__C': 1000,\n",
       " 'classifier__kernel': 'rbf',\n",
       " 'preprocessing': ColumnTransformer(transformers=[('num',\n",
       "                                  Pipeline(steps=[('scaler', StandardScaler())]),\n",
       "                                  ['Offer Size (M)', 'Filing Term Amount (M)',\n",
       "                                   'VIX index']),\n",
       "                                 ('cat',\n",
       "                                  Pipeline(steps=[('onehot',\n",
       "                                                   OneHotEncoder(handle_unknown='ignore'))]),\n",
       "                                  ['Security Type', 'Left Lead Bookrunner'])])}"
      ]
     },
     "execution_count": 42,
     "metadata": {},
     "output_type": "execute_result"
    }
   ],
   "source": [
    "# search for best parameters\n",
    "pipe_2 = Pipeline([('preprocessing', preprocessor),  \n",
    "                   ('classifier', SVC(probability=True))])\n",
    "\n",
    "param_grid_2 = {\n",
    "            'preprocessing': [preprocessor],\n",
    "            'classifier__kernel':['rbf','poly','sigmoid'],\n",
    "            'classifier__C': [10, 100, 1000]\n",
    "}\n",
    "\n",
    "grid_2 = GridSearchCV(pipe_2, param_grid_2, cv=kfold, return_train_score=True)\n",
    "\n",
    "grid_2.fit(X_train, y_train)\n",
    "grid_2.best_params_"
   ]
  },
  {
   "cell_type": "code",
   "execution_count": 43,
   "id": "83502fa4",
   "metadata": {},
   "outputs": [
    {
     "data": {
      "text/plain": [
       "Pipeline(steps=[('preprocessing',\n",
       "                 ColumnTransformer(transformers=[('num',\n",
       "                                                  Pipeline(steps=[('scaler',\n",
       "                                                                   StandardScaler())]),\n",
       "                                                  ['Offer Size (M)',\n",
       "                                                   'Filing Term Amount (M)',\n",
       "                                                   'VIX index']),\n",
       "                                                 ('cat',\n",
       "                                                  Pipeline(steps=[('onehot',\n",
       "                                                                   OneHotEncoder(handle_unknown='ignore'))]),\n",
       "                                                  ['Security Type',\n",
       "                                                   'Left Lead Bookrunner'])])),\n",
       "                ('classifier', SVC(C=1000, probability=True))])"
      ]
     },
     "execution_count": 43,
     "metadata": {},
     "output_type": "execute_result"
    }
   ],
   "source": [
    "# implementation best params to the model\n",
    "model_SVM = Pipeline([('preprocessing', preprocessor),  \n",
    "                      ('classifier', SVC(C=1000,\n",
    "                                         kernel='rbf',\n",
    "                                         probability=True))])\n",
    "\n",
    "model_SVM.fit(X_train, y_train)"
   ]
  },
  {
   "cell_type": "code",
   "execution_count": 44,
   "id": "5f53c0a0",
   "metadata": {},
   "outputs": [
    {
     "name": "stdout",
     "output_type": "stream",
     "text": [
      "              precision    recall  f1-score   support\n",
      "\n",
      "       False       0.48      0.58      0.53       103\n",
      "        True       0.83      0.76      0.79       269\n",
      "\n",
      "    accuracy                           0.71       372\n",
      "   macro avg       0.66      0.67      0.66       372\n",
      "weighted avg       0.73      0.71      0.72       372\n",
      "\n"
     ]
    }
   ],
   "source": [
    "# evaluate optimized model\n",
    "y_pred_SVM = model_SVM.predict(X_test)\n",
    "print(classification_report(y_pred_SVM, y_test))"
   ]
  },
  {
   "cell_type": "code",
   "execution_count": 88,
   "id": "55fa59ac",
   "metadata": {},
   "outputs": [
    {
     "data": {
      "image/png": "[encoded data removed]",
      "text/plain": [
       "<Figure size 432x288 with 2 Axes>"
      ]
     },
     "metadata": {
      "needs_background": "light"
     },
     "output_type": "display_data"
    }
   ],
   "source": [
    "# confusion matrix\n",
    "cm_SVM = confusion_matrix(y_test, y_pred_SVM)\n",
    "plot_SVM = ConfusionMatrixDisplay(cm_SVM, display_labels=model_SVM.classes_)\n",
    "\n",
    "plot_SVM.plot()\n",
    "\n",
    "plt.show()"
   ]
  },
  {
   "cell_type": "markdown",
   "id": "311f0ab4",
   "metadata": {},
   "source": [
    "### Decision Tree Classifier"
   ]
  },
  {
   "cell_type": "code",
   "execution_count": 45,
   "id": "590494c3",
   "metadata": {},
   "outputs": [
    {
     "data": {
      "text/plain": [
       "{'classifier__max_depth': 9,\n",
       " 'classifier__max_leaf_nodes': 20,\n",
       " 'classifier__min_samples_split': 2,\n",
       " 'preprocessing': ColumnTransformer(transformers=[('num',\n",
       "                                  Pipeline(steps=[('scaler', StandardScaler())]),\n",
       "                                  ['Offer Size (M)', 'Filing Term Amount (M)',\n",
       "                                   'VIX index']),\n",
       "                                 ('cat',\n",
       "                                  Pipeline(steps=[('onehot',\n",
       "                                                   OneHotEncoder(handle_unknown='ignore'))]),\n",
       "                                  ['Security Type', 'Left Lead Bookrunner'])])}"
      ]
     },
     "execution_count": 45,
     "metadata": {},
     "output_type": "execute_result"
    }
   ],
   "source": [
    "# search for best parameters\n",
    "pipe_3 = Pipeline([('preprocessing', preprocessor),  \n",
    "                   ('classifier', DecisionTreeClassifier())])\n",
    "\n",
    "param_grid_3 = {\n",
    "            'preprocessing': [preprocessor],\n",
    "            'classifier__max_depth': [5,9,10,11,20,30],\n",
    "            'classifier__min_samples_split': [2,3,5,10,20,30,40],\n",
    "            'classifier__max_leaf_nodes': [3,4,10,14,15,16,20,30,40]\n",
    "}\n",
    "\n",
    "grid_3 = GridSearchCV(pipe_3, param_grid_3, cv=kfold, return_train_score=True)\n",
    "\n",
    "grid_3.fit(X_train, y_train)\n",
    "grid_3.best_params_"
   ]
  },
  {
   "cell_type": "code",
   "execution_count": 90,
   "id": "0092362a",
   "metadata": {},
   "outputs": [
    {
     "data": {
      "text/plain": [
       "Pipeline(steps=[('preprocessing',\n",
       "                 ColumnTransformer(transformers=[('num',\n",
       "                                                  Pipeline(steps=[('scaler',\n",
       "                                                                   StandardScaler())]),\n",
       "                                                  ['Offer Size (M)',\n",
       "                                                   'Filing Term Amount (M)',\n",
       "                                                   'VIX index']),\n",
       "                                                 ('cat',\n",
       "                                                  Pipeline(steps=[('onehot',\n",
       "                                                                   OneHotEncoder(handle_unknown='ignore'))]),\n",
       "                                                  ['Security Type',\n",
       "                                                   'Left Lead Bookrunner'])])),\n",
       "                ('classifier',\n",
       "                 DecisionTreeClassifier(max_depth=9, max_leaf_nodes=20))])"
      ]
     },
     "execution_count": 90,
     "metadata": {},
     "output_type": "execute_result"
    }
   ],
   "source": [
    "# implementation best params to the model\n",
    "model_DTC = Pipeline([('preprocessing', preprocessor),  \n",
    "                      ('classifier', DecisionTreeClassifier(max_depth=9,\n",
    "                                                            max_leaf_nodes=20,\n",
    "                                                            min_samples_split=2,))])\n",
    "\n",
    "model_DTC.fit(X_train, y_train)"
   ]
  },
  {
   "cell_type": "code",
   "execution_count": 47,
   "id": "ece51bed",
   "metadata": {},
   "outputs": [
    {
     "name": "stdout",
     "output_type": "stream",
     "text": [
      "              precision    recall  f1-score   support\n",
      "\n",
      "       False       0.27      0.77      0.40        44\n",
      "        True       0.96      0.73      0.83       328\n",
      "\n",
      "    accuracy                           0.73       372\n",
      "   macro avg       0.62      0.75      0.62       372\n",
      "weighted avg       0.88      0.73      0.78       372\n",
      "\n"
     ]
    }
   ],
   "source": [
    "# evaluate optimized model\n",
    "y_pred_DTC = model_DTC.predict(X_test)\n",
    "print(classification_report(y_pred_DTC, y_test))"
   ]
  },
  {
   "cell_type": "code",
   "execution_count": 87,
   "id": "133b8bd9",
   "metadata": {},
   "outputs": [
    {
     "data": {
      "image/png": "[encoded data removed]",
      "text/plain": [
       "<Figure size 432x288 with 2 Axes>"
      ]
     },
     "metadata": {
      "needs_background": "light"
     },
     "output_type": "display_data"
    }
   ],
   "source": [
    "# confusion matrix\n",
    "cm_DTC = confusion_matrix(y_test, y_pred_DTC)\n",
    "plot_DTC = ConfusionMatrixDisplay(cm_DTC, display_labels=model_DTC.classes_)\n",
    "\n",
    "plot_DTC.plot()\n",
    "\n",
    "plt.show()"
   ]
  },
  {
   "cell_type": "markdown",
   "id": "9121bf37",
   "metadata": {},
   "source": [
    "### Random Forest Classifier"
   ]
  },
  {
   "cell_type": "code",
   "execution_count": 48,
   "id": "0677da05",
   "metadata": {},
   "outputs": [
    {
     "data": {
      "text/plain": [
       "{'classifier__max_depth': 10,\n",
       " 'classifier__max_leaf_nodes': 32,\n",
       " 'classifier__n_estimators': 200,\n",
       " 'preprocessing': ColumnTransformer(transformers=[('num',\n",
       "                                  Pipeline(steps=[('scaler', StandardScaler())]),\n",
       "                                  ['Offer Size (M)', 'Filing Term Amount (M)',\n",
       "                                   'VIX index']),\n",
       "                                 ('cat',\n",
       "                                  Pipeline(steps=[('onehot',\n",
       "                                                   OneHotEncoder(handle_unknown='ignore'))]),\n",
       "                                  ['Security Type', 'Left Lead Bookrunner'])])}"
      ]
     },
     "execution_count": 48,
     "metadata": {},
     "output_type": "execute_result"
    }
   ],
   "source": [
    "# search for best parameters\n",
    "pipe_4 = Pipeline([('preprocessing', preprocessor), \n",
    "                   ('classifier', RandomForestClassifier())])\n",
    "\n",
    "param_grid_4 = {\n",
    "                'preprocessing': [preprocessor],\n",
    "                'classifier__n_estimators': [10, 50, 100],\n",
    "                'classifier__max_leaf_nodes': [10, 20],\n",
    "                'classifier__max_depth': [10, 20],\n",
    "                'classifier__n_estimators': [200, 500, 1000],\n",
    "                'classifier__max_leaf_nodes': [4, 8, 16, 32]\n",
    "             }\n",
    "\n",
    "grid_4 = GridSearchCV(pipe_4, param_grid_4, cv=kfold, return_train_score=True)\n",
    "\n",
    "grid_4.fit(X_train, y_train)\n",
    "grid_4.best_params_"
   ]
  },
  {
   "cell_type": "code",
   "execution_count": 49,
   "id": "c7e0c96f",
   "metadata": {},
   "outputs": [
    {
     "data": {
      "text/plain": [
       "Pipeline(steps=[('preprocessing',\n",
       "                 ColumnTransformer(transformers=[('num',\n",
       "                                                  Pipeline(steps=[('scaler',\n",
       "                                                                   StandardScaler())]),\n",
       "                                                  ['Offer Size (M)',\n",
       "                                                   'Filing Term Amount (M)',\n",
       "                                                   'VIX index']),\n",
       "                                                 ('cat',\n",
       "                                                  Pipeline(steps=[('onehot',\n",
       "                                                                   OneHotEncoder(handle_unknown='ignore'))]),\n",
       "                                                  ['Security Type',\n",
       "                                                   'Left Lead Bookrunner'])])),\n",
       "                ('classifier',\n",
       "                 RandomForestClassifier(max_depth=10, max_leaf_nodes=32,\n",
       "                                        n_estimators=200))])"
      ]
     },
     "execution_count": 49,
     "metadata": {},
     "output_type": "execute_result"
    }
   ],
   "source": [
    "# implementation best params to the model\n",
    "model_RFC = Pipeline([('preprocessing', preprocessor),  \n",
    "                      ('classifier', RandomForestClassifier(max_depth=10,\n",
    "                                                            max_leaf_nodes=32,\n",
    "                                                            n_estimators=200))])\n",
    "\n",
    "model_RFC.fit(X_train, y_train)"
   ]
  },
  {
   "cell_type": "code",
   "execution_count": 50,
   "id": "e76df7c4",
   "metadata": {},
   "outputs": [
    {
     "name": "stdout",
     "output_type": "stream",
     "text": [
      "              precision    recall  f1-score   support\n",
      "\n",
      "       False       0.11      0.64      0.19        22\n",
      "        True       0.97      0.69      0.80       350\n",
      "\n",
      "    accuracy                           0.68       372\n",
      "   macro avg       0.54      0.66      0.50       372\n",
      "weighted avg       0.92      0.68      0.77       372\n",
      "\n"
     ]
    }
   ],
   "source": [
    "# evaluate optimized model\n",
    "y_pred_RFC = model_RFC.predict(X_test)\n",
    "print(classification_report(y_pred_RFC, y_test))"
   ]
  },
  {
   "cell_type": "code",
   "execution_count": 86,
   "id": "457dc4eb",
   "metadata": {},
   "outputs": [
    {
     "data": {
      "image/png": "[encoded data removed]",
      "text/plain": [
       "<Figure size 432x288 with 2 Axes>"
      ]
     },
     "metadata": {
      "needs_background": "light"
     },
     "output_type": "display_data"
    }
   ],
   "source": [
    "# confusion matrix\n",
    "cm_RFC = confusion_matrix(y_test, y_pred_RFC)\n",
    "plot_RFC = ConfusionMatrixDisplay(cm_RFC, display_labels=model_RFC.classes_)\n",
    "\n",
    "plot_RFC.plot()\n",
    "\n",
    "plt.show()"
   ]
  },
  {
   "cell_type": "markdown",
   "id": "27bb746a",
   "metadata": {},
   "source": [
    "### Bagging Classifier"
   ]
  },
  {
   "cell_type": "code",
   "execution_count": 51,
   "id": "0b5ce00c",
   "metadata": {},
   "outputs": [
    {
     "data": {
      "text/plain": [
       "{'classifier__max_samples': 20,\n",
       " 'classifier__n_estimators': 50,\n",
       " 'preprocessing': ColumnTransformer(transformers=[('num',\n",
       "                                  Pipeline(steps=[('scaler', StandardScaler())]),\n",
       "                                  ['Offer Size (M)', 'Filing Term Amount (M)',\n",
       "                                   'VIX index']),\n",
       "                                 ('cat',\n",
       "                                  Pipeline(steps=[('onehot',\n",
       "                                                   OneHotEncoder(handle_unknown='ignore'))]),\n",
       "                                  ['Security Type', 'Left Lead Bookrunner'])])}"
      ]
     },
     "execution_count": 51,
     "metadata": {},
     "output_type": "execute_result"
    }
   ],
   "source": [
    "# search for best parameters\n",
    "pipe_5 = Pipeline([('preprocessing', preprocessor), \n",
    "                   ('classifier', BaggingClassifier(DecisionTreeClassifier()))])\n",
    "\n",
    "param_grid_5 = {\n",
    "                'preprocessing': [preprocessor],\n",
    "                'classifier__n_estimators': [10,50,100],\n",
    "                'classifier__max_samples': [10,20]\n",
    "             }\n",
    "\n",
    "grid_5 = GridSearchCV(pipe_5, param_grid_5, cv=kfold, return_train_score=True)\n",
    "\n",
    "grid_5.fit(X_train, y_train)\n",
    "grid_5.best_params_"
   ]
  },
  {
   "cell_type": "code",
   "execution_count": 54,
   "id": "7af29a0a",
   "metadata": {},
   "outputs": [
    {
     "data": {
      "text/plain": [
       "Pipeline(steps=[('preprocessing',\n",
       "                 ColumnTransformer(transformers=[('num',\n",
       "                                                  Pipeline(steps=[('scaler',\n",
       "                                                                   StandardScaler())]),\n",
       "                                                  ['Offer Size (M)',\n",
       "                                                   'Filing Term Amount (M)',\n",
       "                                                   'VIX index']),\n",
       "                                                 ('cat',\n",
       "                                                  Pipeline(steps=[('onehot',\n",
       "                                                                   OneHotEncoder(handle_unknown='ignore'))]),\n",
       "                                                  ['Security Type',\n",
       "                                                   'Left Lead Bookrunner'])])),\n",
       "                ('classifier',\n",
       "                 BaggingClassifier(max_samples=20, n_estimators=50))])"
      ]
     },
     "execution_count": 54,
     "metadata": {},
     "output_type": "execute_result"
    }
   ],
   "source": [
    "# implementation best params to the model\n",
    "model_BC = Pipeline([('preprocessing', preprocessor),  \n",
    "                     ('classifier', BaggingClassifier(max_samples=20,\n",
    "                                                      n_estimators=50))])\n",
    "\n",
    "model_BC.fit(X_train, y_train)"
   ]
  },
  {
   "cell_type": "code",
   "execution_count": 72,
   "id": "1a7a0782",
   "metadata": {},
   "outputs": [
    {
     "name": "stdout",
     "output_type": "stream",
     "text": [
      "              precision    recall  f1-score   support\n",
      "\n",
      "       False       0.06      0.53      0.12        15\n",
      "        True       0.97      0.68      0.80       357\n",
      "\n",
      "    accuracy                           0.67       372\n",
      "   macro avg       0.52      0.60      0.46       372\n",
      "weighted avg       0.94      0.67      0.77       372\n",
      "\n"
     ]
    }
   ],
   "source": [
    "# evaluate optimized model\n",
    "y_pred_BC = model_BC.predict(X_test)\n",
    "print(classification_report(y_pred_BC, y_test))"
   ]
  },
  {
   "cell_type": "code",
   "execution_count": 85,
   "id": "b0f25efe",
   "metadata": {},
   "outputs": [
    {
     "data": {
      "image/png": "[encoded data removed]",
      "text/plain": [
       "<Figure size 432x288 with 2 Axes>"
      ]
     },
     "metadata": {
      "needs_background": "light"
     },
     "output_type": "display_data"
    }
   ],
   "source": [
    "# confusion matrix\n",
    "cm_BC = confusion_matrix(y_test, y_pred_BC)\n",
    "plot_BC = ConfusionMatrixDisplay(cm_BC, display_labels=model_BC.classes_)\n",
    "\n",
    "plot_BC.plot()\n",
    "\n",
    "plt.show()"
   ]
  },
  {
   "cell_type": "markdown",
   "id": "2104750b",
   "metadata": {},
   "source": [
    "### Gradient Boosting Classifier"
   ]
  },
  {
   "cell_type": "code",
   "execution_count": 56,
   "id": "608b9aaf",
   "metadata": {},
   "outputs": [
    {
     "data": {
      "text/plain": [
       "{'classifier__learning_rate': 0.2, 'classifier__n_estimators': 500}"
      ]
     },
     "execution_count": 56,
     "metadata": {},
     "output_type": "execute_result"
    }
   ],
   "source": [
    "# search for best parameters\n",
    "pipe_6 = Pipeline([('preprocessing', preprocessor), \n",
    "                   ('classifier', GradientBoostingClassifier())])\n",
    "\n",
    "\n",
    "param_grid_6 = {'classifier__n_estimators': [200, 500, 1000],\n",
    "              'classifier__learning_rate': [0.1, 0.2, 0.5, 0.9, 1]\n",
    "             }\n",
    "\n",
    "grid_6 = GridSearchCV(pipe_6, param_grid_6, cv=kfold, return_train_score=True)\n",
    "\n",
    "grid_6.fit(X_train, y_train)\n",
    "grid_6.best_params_"
   ]
  },
  {
   "cell_type": "code",
   "execution_count": 57,
   "id": "455a99a0",
   "metadata": {},
   "outputs": [
    {
     "data": {
      "text/plain": [
       "Pipeline(steps=[('preprocessing',\n",
       "                 ColumnTransformer(transformers=[('num',\n",
       "                                                  Pipeline(steps=[('scaler',\n",
       "                                                                   StandardScaler())]),\n",
       "                                                  ['Offer Size (M)',\n",
       "                                                   'Filing Term Amount (M)',\n",
       "                                                   'VIX index']),\n",
       "                                                 ('cat',\n",
       "                                                  Pipeline(steps=[('onehot',\n",
       "                                                                   OneHotEncoder(handle_unknown='ignore'))]),\n",
       "                                                  ['Security Type',\n",
       "                                                   'Left Lead Bookrunner'])])),\n",
       "                ('classifier',\n",
       "                 GradientBoostingClassifier(learning_rate=0.2,\n",
       "                                            n_estimators=500))])"
      ]
     },
     "execution_count": 57,
     "metadata": {},
     "output_type": "execute_result"
    }
   ],
   "source": [
    "# implementation best params to the model\n",
    "model_GBC = Pipeline([('preprocessing', preprocessor),  \n",
    "                               ('classifier', GradientBoostingClassifier(learning_rate=0.2,\n",
    "                                                                         n_estimators=500))])\n",
    "\n",
    "model_GBC.fit(X_train, y_train)"
   ]
  },
  {
   "cell_type": "code",
   "execution_count": 58,
   "id": "07ebb6e4",
   "metadata": {},
   "outputs": [
    {
     "name": "stdout",
     "output_type": "stream",
     "text": [
      "              precision    recall  f1-score   support\n",
      "\n",
      "       False       0.61      0.68      0.65       111\n",
      "        True       0.86      0.82      0.84       261\n",
      "\n",
      "    accuracy                           0.78       372\n",
      "   macro avg       0.74      0.75      0.74       372\n",
      "weighted avg       0.79      0.78      0.78       372\n",
      "\n"
     ]
    }
   ],
   "source": [
    "# evaluate optimized model\n",
    "y_pred_GBC = model_GBC.predict(X_test)\n",
    "print(classification_report(y_pred_GBC, y_test))"
   ]
  },
  {
   "cell_type": "code",
   "execution_count": 76,
   "id": "4a82a913",
   "metadata": {},
   "outputs": [
    {
     "data": {
      "text/plain": [
       "array([[ 76,  48],\n",
       "       [ 35, 213]], dtype=int64)"
      ]
     },
     "execution_count": 76,
     "metadata": {},
     "output_type": "execute_result"
    }
   ],
   "source": [
    "confusion_matrix(y_test, y_pred_GBC)"
   ]
  },
  {
   "cell_type": "code",
   "execution_count": 84,
   "id": "f0f3ab0e",
   "metadata": {},
   "outputs": [
    {
     "data": {
      "image/png": "[encoded data removed]",
      "text/plain": [
       "<Figure size 432x288 with 2 Axes>"
      ]
     },
     "metadata": {
      "needs_background": "light"
     },
     "output_type": "display_data"
    }
   ],
   "source": [
    "# confusion matrix\n",
    "cm_GBC = confusion_matrix(y_test, y_pred_GBC)\n",
    "plot_GBC = ConfusionMatrixDisplay(cm_GBC, display_labels=model_GBC.classes_)\n",
    "\n",
    "plot_GBC.plot()\n",
    "\n",
    "plt.show()"
   ]
  },
  {
   "cell_type": "markdown",
   "id": "411a09a4",
   "metadata": {},
   "source": [
    "### Simply XGBClassifier"
   ]
  },
  {
   "cell_type": "code",
   "execution_count": 59,
   "id": "1a8c85f6",
   "metadata": {},
   "outputs": [
    {
     "data": {
      "text/plain": [
       "{'classifier__learning_rate': 0.6,\n",
       " 'classifier__max_depth': 50,\n",
       " 'classifier__n_estimators': 100}"
      ]
     },
     "execution_count": 59,
     "metadata": {},
     "output_type": "execute_result"
    }
   ],
   "source": [
    "# search for best parameters\n",
    "pipe_7 = Pipeline([('preprocessing', preprocessor), \n",
    "                   ('classifier', XGBClassifier())])\n",
    "\n",
    "\n",
    "param_grid_7 = {'classifier__max_depth': [50, 100, 200],\n",
    "                'classifier__learning_rate':[0.6, 0.8],\n",
    "                'classifier__n_estimators': [100, 500],\n",
    "            }\n",
    "\n",
    "grid_7 = GridSearchCV(pipe_7, param_grid_7, cv=kfold, return_train_score=True)\n",
    "\n",
    "grid_7.fit(X_train, y_train)\n",
    "grid_7.best_params_"
   ]
  },
  {
   "cell_type": "code",
   "execution_count": 60,
   "id": "ed915581",
   "metadata": {},
   "outputs": [
    {
     "data": {
      "text/plain": [
       "Pipeline(steps=[('preprocessing',\n",
       "                 ColumnTransformer(transformers=[('num',\n",
       "                                                  Pipeline(steps=[('scaler',\n",
       "                                                                   StandardScaler())]),\n",
       "                                                  ['Offer Size (M)',\n",
       "                                                   'Filing Term Amount (M)',\n",
       "                                                   'VIX index']),\n",
       "                                                 ('cat',\n",
       "                                                  Pipeline(steps=[('onehot',\n",
       "                                                                   OneHotEncoder(handle_unknown='ignore'))]),\n",
       "                                                  ['Security Type',\n",
       "                                                   'Left Lead Bookrunner'])])),\n",
       "                ('classifier',\n",
       "                 XGBClassifier(base_score=0.5, booster='gbtree', call...\n",
       "                               gamma=0, gpu_id=-1, grow_policy='depthwise',\n",
       "                               importance_type=None, interaction_constraints='',\n",
       "                               learning_rate=0.6, max_bin=256,\n",
       "                               max_cat_to_onehot=4, max_delta_step=0,\n",
       "                               max_depth=50, max_leaves=0, min_child_weight=1,\n",
       "                               missing=nan, monotone_constraints='()',\n",
       "                               n_estimators=100, n_jobs=0, num_parallel_tree=1,\n",
       "                               predictor='auto', random_state=0, reg_alpha=0,\n",
       "                               reg_lambda=1, ...))])"
      ]
     },
     "execution_count": 60,
     "metadata": {},
     "output_type": "execute_result"
    }
   ],
   "source": [
    "# implementation best params to the model\n",
    "model_XGB = Pipeline([('preprocessing', preprocessor),  \n",
    "                      ('classifier', XGBClassifier(learning_rate=0.6,\n",
    "                                                   max_depth=50,\n",
    "                                                   n_estimators=100))])\n",
    "model_XGB.fit(X_train, y_train)"
   ]
  },
  {
   "cell_type": "code",
   "execution_count": 61,
   "id": "fd590fbf",
   "metadata": {},
   "outputs": [
    {
     "name": "stdout",
     "output_type": "stream",
     "text": [
      "              precision    recall  f1-score   support\n",
      "\n",
      "           0       0.52      0.62      0.56       103\n",
      "           1       0.84      0.78      0.81       269\n",
      "\n",
      "    accuracy                           0.73       372\n",
      "   macro avg       0.68      0.70      0.69       372\n",
      "weighted avg       0.75      0.73      0.74       372\n",
      "\n"
     ]
    }
   ],
   "source": [
    "# evaluate optimized model\n",
    "y_pred_XGB = model_XGB.predict(X_test)\n",
    "print(classification_report(y_pred_XGB, y_test))"
   ]
  },
  {
   "cell_type": "code",
   "execution_count": 82,
   "id": "ae3b6161",
   "metadata": {},
   "outputs": [
    {
     "data": {
      "image/png": "[encoded data removed]",
      "text/plain": [
       "<Figure size 432x288 with 2 Axes>"
      ]
     },
     "metadata": {
      "needs_background": "light"
     },
     "output_type": "display_data"
    }
   ],
   "source": [
    "# confusion matrix\n",
    "cm_XGB = confusion_matrix(y_test, y_pred_XGB)\n",
    "plot_XGB = ConfusionMatrixDisplay(cm_XGB, display_labels=model_XGB.classes_)\n",
    "\n",
    "plot_XGB.plot()\n",
    "\n",
    "plt.show()"
   ]
  },
  {
   "cell_type": "markdown",
   "id": "42977c34",
   "metadata": {},
   "source": [
    "### Summary of the models"
   ]
  },
  {
   "cell_type": "code",
   "execution_count": 68,
   "id": "018ff9c6",
   "metadata": {},
   "outputs": [
    {
     "name": "stdout",
     "output_type": "stream",
     "text": [
      "LR\n",
      "precision_score: 0.6740947075208914\n",
      "recall_score: 0.9758064516129032\n",
      "f1_score: 0.7973640856672158\n",
      "accuracy_score: 0.6693548387096774\n",
      "roc_auc_score: 0.6646884755463058\n",
      "SVM\n",
      "precision_score: 0.7620817843866171\n",
      "recall_score: 0.8266129032258065\n",
      "f1_score: 0.7930367504835589\n",
      "accuracy_score: 0.7123655913978495\n",
      "roc_auc_score: 0.7216278616024974\n",
      "DTC\n",
      "precision_score: 0.725609756097561\n",
      "recall_score: 0.9596774193548387\n",
      "f1_score: 0.826388888888889\n",
      "accuracy_score: 0.7311827956989247\n",
      "roc_auc_score: 0.6568353277835587\n",
      "RFC\n",
      "precision_score: 0.6857142857142857\n",
      "recall_score: 0.967741935483871\n",
      "f1_score: 0.802675585284281\n",
      "accuracy_score: 0.6827956989247311\n",
      "roc_auc_score: 0.6916785900104057\n",
      "BC\n",
      "precision_score: 0.6750700280112045\n",
      "recall_score: 0.9717741935483871\n",
      "f1_score: 0.7966942148760331\n",
      "accuracy_score: 0.6693548387096774\n",
      "roc_auc_score: 0.6132121488033299\n",
      "GBC\n",
      "precision_score: 0.8160919540229885\n",
      "recall_score: 0.8588709677419355\n",
      "f1_score: 0.8369351669941061\n",
      "accuracy_score: 0.7768817204301075\n",
      "roc_auc_score: 0.8128739594172736\n",
      "XGB\n",
      "precision_score: 0.7769516728624535\n",
      "recall_score: 0.842741935483871\n",
      "f1_score: 0.8085106382978723\n",
      "accuracy_score: 0.7338709677419355\n",
      "roc_auc_score: 0.7722587148803328\n"
     ]
    }
   ],
   "source": [
    "models = []\n",
    "models.append(('LR', model_LR))\n",
    "models.append(('SVM', model_SVM))\n",
    "models.append(('DTC', model_DTC))\n",
    "models.append(('RFC', model_RFC))\n",
    "models.append(('BC', model_BC))\n",
    "models.append(('GBC', model_GBC))\n",
    "models.append(('XGB', model_XGB))\n",
    "\n",
    "precision_score = []\n",
    "recall_score = []\n",
    "f1_score = []\n",
    "accuracy_score = []\n",
    "roc_auc_score = []\n",
    "for name, model in models:\n",
    "    print(name)\n",
    "    print(\"precision_score: {}\".format(metrics.precision_score(y_test , model.predict(X_test)) ))\n",
    "    print(\"recall_score: {}\".format( metrics.recall_score(y_test , model.predict(X_test)) ))\n",
    "    print(\"f1_score: {}\".format( metrics.f1_score(y_test , model.predict(X_test)) ))\n",
    "    print(\"accuracy_score: {}\".format( metrics.accuracy_score(y_test , model.predict(X_test)) ))\n",
    "    if (name == 'SVM'):\n",
    "        print(\"roc_auc_score: {}\".format( metrics.roc_auc_score(y_test , model.decision_function(X_test)) ))\n",
    "    else:\n",
    "        print(\"roc_auc_score: {}\".format( metrics.roc_auc_score(y_test , model.predict_proba(X_test)[:,1]) ))\n",
    "    precision_score.append(metrics.precision_score(y_test , model.predict(X_test)))\n",
    "    recall_score.append(metrics.recall_score(y_test , model.predict(X_test)))\n",
    "    f1_score.append( metrics.f1_score(y_test , model.predict(X_test)))\n",
    "    accuracy_score.append(metrics.accuracy_score(y_test , model.predict(X_test)))\n",
    "    if (name == 'SVM'):\n",
    "        roc_auc_score.append(metrics.roc_auc_score(y_test , model.decision_function(X_test)))\n",
    "    else:\n",
    "        roc_auc_score.append(metrics.roc_auc_score(y_test , model.predict_proba(X_test)[:,1]))"
   ]
  },
  {
   "cell_type": "code",
   "execution_count": 95,
   "id": "1932a2c4",
   "metadata": {},
   "outputs": [
    {
     "data": {
      "text/html": [
       "<div>\n",
       "<style scoped>\n",
       "    .dataframe tbody tr th:only-of-type {\n",
       "        vertical-align: middle;\n",
       "    }\n",
       "\n",
       "    .dataframe tbody tr th {\n",
       "        vertical-align: top;\n",
       "    }\n",
       "\n",
       "    .dataframe thead th {\n",
       "        text-align: right;\n",
       "    }\n",
       "</style>\n",
       "<table border=\"1\" class=\"dataframe\">\n",
       "  <thead>\n",
       "    <tr style=\"text-align: right;\">\n",
       "      <th></th>\n",
       "      <th>Method</th>\n",
       "      <th>precision_score</th>\n",
       "      <th>recall_score</th>\n",
       "      <th>f1_score</th>\n",
       "      <th>accuracy_score</th>\n",
       "      <th>roc_auc_score</th>\n",
       "    </tr>\n",
       "  </thead>\n",
       "  <tbody>\n",
       "    <tr>\n",
       "      <th>5</th>\n",
       "      <td>GBC</td>\n",
       "      <td>0.816092</td>\n",
       "      <td>0.858871</td>\n",
       "      <td>0.836935</td>\n",
       "      <td>0.776882</td>\n",
       "      <td>0.812874</td>\n",
       "    </tr>\n",
       "    <tr>\n",
       "      <th>6</th>\n",
       "      <td>XGB</td>\n",
       "      <td>0.776952</td>\n",
       "      <td>0.842742</td>\n",
       "      <td>0.808511</td>\n",
       "      <td>0.733871</td>\n",
       "      <td>0.772259</td>\n",
       "    </tr>\n",
       "    <tr>\n",
       "      <th>2</th>\n",
       "      <td>DTC</td>\n",
       "      <td>0.725610</td>\n",
       "      <td>0.959677</td>\n",
       "      <td>0.826389</td>\n",
       "      <td>0.731183</td>\n",
       "      <td>0.656835</td>\n",
       "    </tr>\n",
       "    <tr>\n",
       "      <th>1</th>\n",
       "      <td>SVM</td>\n",
       "      <td>0.762082</td>\n",
       "      <td>0.826613</td>\n",
       "      <td>0.793037</td>\n",
       "      <td>0.712366</td>\n",
       "      <td>0.721628</td>\n",
       "    </tr>\n",
       "    <tr>\n",
       "      <th>3</th>\n",
       "      <td>RFC</td>\n",
       "      <td>0.685714</td>\n",
       "      <td>0.967742</td>\n",
       "      <td>0.802676</td>\n",
       "      <td>0.682796</td>\n",
       "      <td>0.691679</td>\n",
       "    </tr>\n",
       "    <tr>\n",
       "      <th>0</th>\n",
       "      <td>LR</td>\n",
       "      <td>0.674095</td>\n",
       "      <td>0.975806</td>\n",
       "      <td>0.797364</td>\n",
       "      <td>0.669355</td>\n",
       "      <td>0.664688</td>\n",
       "    </tr>\n",
       "    <tr>\n",
       "      <th>4</th>\n",
       "      <td>BC</td>\n",
       "      <td>0.675070</td>\n",
       "      <td>0.971774</td>\n",
       "      <td>0.796694</td>\n",
       "      <td>0.669355</td>\n",
       "      <td>0.613212</td>\n",
       "    </tr>\n",
       "  </tbody>\n",
       "</table>\n",
       "</div>"
      ],
      "text/plain": [
       "  Method  precision_score  recall_score  f1_score  accuracy_score  \\\n",
       "5    GBC         0.816092      0.858871  0.836935        0.776882   \n",
       "6    XGB         0.776952      0.842742  0.808511        0.733871   \n",
       "2    DTC         0.725610      0.959677  0.826389        0.731183   \n",
       "1   SVM          0.762082      0.826613  0.793037        0.712366   \n",
       "3    RFC         0.685714      0.967742  0.802676        0.682796   \n",
       "0     LR         0.674095      0.975806  0.797364        0.669355   \n",
       "4     BC         0.675070      0.971774  0.796694        0.669355   \n",
       "\n",
       "   roc_auc_score  \n",
       "5       0.812874  \n",
       "6       0.772259  \n",
       "2       0.656835  \n",
       "1       0.721628  \n",
       "3       0.691679  \n",
       "0       0.664688  \n",
       "4       0.613212  "
      ]
     },
     "execution_count": 95,
     "metadata": {},
     "output_type": "execute_result"
    }
   ],
   "source": [
    "metrics = {'precision_score': precision_score,\n",
    "     'recall_score': recall_score,\n",
    "     'f1_score': f1_score,\n",
    "     'accuracy_score' : accuracy_score,\n",
    "     'roc_auc_score' : roc_auc_score\n",
    "    }\n",
    "\n",
    "df_summary = pd.DataFrame(data=metrics)\n",
    "df_summary.insert(loc=0, column='Method', value=['LR', 'SVM ', 'DTC', 'RFC', 'BC', 'GBC', 'XGB'])\n",
    "\n",
    "df_summary.sort_values(['accuracy_score'], ascending=False)"
   ]
  },
  {
   "cell_type": "markdown",
   "id": "c6ff278a",
   "metadata": {},
   "source": [
    "The best result were performed by **GBC - Gradient Boosts Classifier**. Comparing all confusion matrixs to can indytify that GBC had a lower value of FP (False Posivite) which in our case we would like to minimise. Other algotythms had problem of proper classify ICO, which were negative during introduction. Even GBC had precision result for identification of negative ICO around 0.6, which compare to others is significantly better."
   ]
  },
  {
   "cell_type": "markdown",
   "id": "89d9a71b",
   "metadata": {},
   "source": [
    "## Summary"
   ]
  },
  {
   "cell_type": "markdown",
   "id": "e1aa9a29",
   "metadata": {},
   "source": [
    "Going through to the summary we can say that performed result are not good as it supposed to be. In such project is really challenging to achieve result higher than 85% *accuracy*. People, who are working in this market are able to achieve result of proper classification of ICO around 90% - but they have to be really experience & they have to know this market extremely well. Also they evaluate particular ICO not only based on information provided by Bloomberg platform.\n",
    "\n",
    "Other fact is that we analysis small portion of data & information which can be use for such classification. For example we did not consider such factors as:\n",
    "- psychology of the people,\n",
    "- general market trend - only VIX index was bringing us some information,\n",
    "- some insides from particular ICO,\n",
    "- news,\n",
    "- general market conditions,\n",
    "- even wordwide situotion,\n",
    "- political situation,\n",
    "- & more...\n",
    "\n",
    "After implementation of one of above factors we should be able to increase *accuracy* ratio.\n",
    "Also reduction of the binary attributes can be posivite impact for the models.\n",
    "\n",
    "Finally let's look wider on analysis topic. In fact predictions on stock market are one of the most difficult thing to model - it doesn't matter how much data will be collected, how many news will be gather etc.. sometimes only one thing decides about result (for example speculation)."
   ]
  }
 ],
 "metadata": {
  "kernelspec": {
   "display_name": "Python 3 (ipykernel)",
   "language": "python",
   "name": "python3"
  },
  "language_info": {
   "codemirror_mode": {
    "name": "ipython",
    "version": 3
   },
   "file_extension": ".py",
   "mimetype": "text/x-python",
   "name": "python",
   "nbconvert_exporter": "python",
   "pygments_lexer": "ipython3",
   "version": "3.9.7"
  },
  "toc": {
   "base_numbering": "1.",
   "nav_menu": {},
   "number_sections": true,
   "sideBar": true,
   "skip_h1_title": true,
   "title_cell": "Table of Contents",
   "title_sidebar": "Contents",
   "toc_cell": false,
   "toc_position": {
    "height": "calc(100% - 180px)",
    "left": "10px",
    "top": "150px",
    "width": "225.994px"
   },
   "toc_section_display": true,
   "toc_window_display": true
  },
  "varInspector": {
   "cols": {
    "lenName": 16,
    "lenType": 16,
    "lenVar": 40
   },
   "kernels_config": {
    "python": {
     "delete_cmd_postfix": "",
     "delete_cmd_prefix": "del ",
     "library": "var_list.py",
     "varRefreshCmd": "print(var_dic_list())"
    },
    "r": {
     "delete_cmd_postfix": ") ",
     "delete_cmd_prefix": "rm(",
     "library": "var_list.r",
     "varRefreshCmd": "cat(var_dic_list()) "
    }
   },
   "types_to_exclude": [
    "module",
    "function",
    "builtin_function_or_method",
    "instance",
    "_Feature"
   ],
   "window_display": false
  }
 },
 "nbformat": 4,
 "nbformat_minor": 5
}
